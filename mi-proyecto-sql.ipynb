{
 "cells": [
  {
   "cell_type": "markdown",
   "metadata": {},
   "source": [
    "----"
   ]
  },
  {
   "cell_type": "markdown",
   "metadata": {},
   "source": [
    "---"
   ]
  },
  {
   "cell_type": "markdown",
   "metadata": {},
   "source": [
    "# Análisis de Base de Datos - SQL"
   ]
  },
  {
   "cell_type": "markdown",
   "metadata": {},
   "source": [
    "## Objetivo del Estudio"
   ]
  },
  {
   "cell_type": "markdown",
   "metadata": {},
   "source": [
    "El propósito de este análisis es explorar una base de datos relacionada con libros, editoriales, autores y calificaciones de clientes.  \n",
    "Usaremos consultas SQL para obtener información relevante que nos ayude a entender el comportamiento de los lectores y editoriales.  \n",
    "\n",
    "Se realizarán análisis para:  \n",
    "1. Determinar cuántos libros fueron publicados después del **1 de enero de 2000**.  \n",
    "2. Obtener el número de **reseñas de usuarios** y la **calificación promedio** de cada libro.  \n",
    "3. Identificar la **editorial con más publicaciones** de libros con más de 50 páginas.  \n",
    "4. Encontrar el **autor con la más alta calificación promedio**, considerando solo libros con al menos 50 calificaciones.  \n",
    "5. Calcular el **número promedio de reseñas de texto** entre los usuarios que han calificado más de 50 libros.  \n"
   ]
  },
  {
   "cell_type": "markdown",
   "metadata": {},
   "source": [
    "##  Plan de Trabajo"
   ]
  },
  {
   "cell_type": "markdown",
   "metadata": {},
   "source": [
    "###  Inicialización  "
   ]
  },
  {
   "cell_type": "code",
   "execution_count": 6,
   "metadata": {
    "trusted": false
   },
   "outputs": [],
   "source": [
    "# Importar las librerías necesarias.\n",
    "\n",
    "import pandas as pd \n",
    "from sqlalchemy import create_engine\n",
    "\n",
    "\n",
    "# Conectarse a la base de datos siguiendo las instrucciones proporcionadas\n",
    "\n",
    "db_config = {'user': 'practicum_student',         # nombre de usuario\n",
    "             'pwd': 's65BlTKV3faNIGhmvJVzOqhs', # contraseña\n",
    "             'host': 'rc1b-wcoijxj3yxfsf3fs.mdb.yandexcloud.net',\n",
    "             'port': 6432,              # puerto de conexión\n",
    "             'db': 'data-analyst-final-project-db'}          # nombre de la base de datos\n",
    "\n",
    "connection_string = 'postgresql://{}:{}@{}:{}/{}'.format(db_config['user'],\n",
    "                                                                     db_config['pwd'],\n",
    "                                                                       db_config['host'],\n",
    "                                                                       db_config['port'],\n",
    "                                                                       db_config['db'])\n",
    "\n",
    "engine = create_engine(connection_string, connect_args={'sslmode':'require'})"
   ]
  },
  {
   "cell_type": "markdown",
   "metadata": {},
   "source": [
    "### Exploración de Datos "
   ]
  },
  {
   "cell_type": "code",
   "execution_count": 7,
   "metadata": {
    "trusted": false
   },
   "outputs": [
    {
     "name": "stdout",
     "output_type": "stream",
     "text": [
      "\n",
      " Primeras filas de la tabla books:\n",
      "   book_id  author_id                                              title  \\\n",
      "0        1        546                                       'Salem's Lot   \n",
      "1        2        465                 1 000 Places to See Before You Die   \n",
      "2        3        407  13 Little Blue Envelopes (Little Blue Envelope...   \n",
      "3        4         82  1491: New Revelations of the Americas Before C...   \n",
      "4        5        125                                               1776   \n",
      "\n",
      "   num_pages publication_date  publisher_id  \n",
      "0        594       2005-11-01            93  \n",
      "1        992       2003-05-22           336  \n",
      "2        322       2010-12-21           135  \n",
      "3        541       2006-10-10           309  \n",
      "4        386       2006-07-04           268  \n",
      "\n",
      " Primeras filas de la tabla authors:\n",
      "   author_id                          author\n",
      "0          1                      A.S. Byatt\n",
      "1          2  Aesop/Laura Harris/Laura Gibbs\n",
      "2          3                 Agatha Christie\n",
      "3          4                   Alan Brennert\n",
      "4          5        Alan Moore/David   Lloyd\n",
      "\n",
      " Primeras filas de la tabla publishers:\n",
      "   publisher_id                          publisher\n",
      "0             1                                Ace\n",
      "1             2                           Ace Book\n",
      "2             3                          Ace Books\n",
      "3             4                      Ace Hardcover\n",
      "4             5  Addison Wesley Publishing Company\n",
      "\n",
      " Primeras filas de la tabla ratings:\n",
      "   rating_id  book_id       username  rating\n",
      "0          1        1     ryanfranco       4\n",
      "1          2        1  grantpatricia       2\n",
      "2          3        1   brandtandrea       5\n",
      "3          4        2       lorichen       3\n",
      "4          5        2    mariokeller       2\n",
      "\n",
      " Primeras filas de la tabla reviews:\n",
      "   review_id  book_id       username  \\\n",
      "0          1        1   brandtandrea   \n",
      "1          2        1     ryanfranco   \n",
      "2          3        2       lorichen   \n",
      "3          4        3  johnsonamanda   \n",
      "4          5        3    scotttamara   \n",
      "\n",
      "                                                text  \n",
      "0  Mention society tell send professor analysis. ...  \n",
      "1  Foot glass pretty audience hit themselves. Amo...  \n",
      "2  Listen treat keep worry. Miss husband tax but ...  \n",
      "3  Finally month interesting blue could nature cu...  \n",
      "4  Nation purpose heavy give wait song will. List...  \n"
     ]
    }
   ],
   "source": [
    "# Consultar las primeras filas de cada tabla para entender sus relaciones\n",
    "\n",
    "tables = [\"books\", \"authors\", \"publishers\", \"ratings\", \"reviews\"]\n",
    "\n",
    "# Obtener las primeras 10 filas de cada una\n",
    "\n",
    "for table in tables:\n",
    "    query = f\"SELECT * FROM {table} LIMIT 5\"\n",
    "    df = pd.io.sql.read_sql(query, con=engine)\n",
    "    \n",
    "    print(f\"\\n Primeras filas de la tabla {table}:\")\n",
    "    print(df)\n",
    "\n"
   ]
  },
  {
   "cell_type": "markdown",
   "metadata": {},
   "source": [
    "### Análisis de Datos con SQL\n"
   ]
  },
  {
   "cell_type": "markdown",
   "metadata": {},
   "source": [
    "#### Consulta 1: Número de libros publicados después del 1 de enero de 2000"
   ]
  },
  {
   "cell_type": "code",
   "execution_count": 8,
   "metadata": {
    "trusted": false
   },
   "outputs": [
    {
     "name": "stdout",
     "output_type": "stream",
     "text": [
      "   libros_publicados\n",
      "0                819\n"
     ]
    }
   ],
   "source": [
    "# Consulta \n",
    "\n",
    "consulta_1 = \"\"\"\n",
    "SELECT COUNT(*) AS libros_publicados\n",
    "FROM books\n",
    "WHERE publication_date > '2000-01-01'\n",
    "\"\"\"\n",
    "\n",
    "# Ejecutar la consulta \n",
    "\n",
    "consulta_uno = pd.io.sql.read_sql(consulta_1, con=engine)\n",
    "print(consulta_uno)\n"
   ]
  },
  {
   "cell_type": "markdown",
   "metadata": {},
   "source": [
    "**Notas:**  819 libros publicados después del 1 de enero de 2000. "
   ]
  },
  {
   "cell_type": "markdown",
   "metadata": {},
   "source": [
    "#### Consulta 2: Número de reseñas de usuarios y la calificación promedio para cada libro"
   ]
  },
  {
   "cell_type": "code",
   "execution_count": 9,
   "metadata": {
    "trusted": false
   },
   "outputs": [
    {
     "name": "stdout",
     "output_type": "stream",
     "text": [
      "     book_id                                              title  num_resenas  \\\n",
      "0        948                            Twilight (Twilight  #1)         1120   \n",
      "1        750                The Hobbit  or There and Back Again          528   \n",
      "2        673                             The Catcher in the Rye          516   \n",
      "3        302  Harry Potter and the Prisoner of Azkaban (Harr...          492   \n",
      "4        299  Harry Potter and the Chamber of Secrets (Harry...          480   \n",
      "..       ...                                                ...          ...   \n",
      "995      221                          Essential Tales and Poems            0   \n",
      "996      808                            The Natural Way to Draw            0   \n",
      "997      191  Disney's Beauty and the Beast (A Little Golden...            0   \n",
      "998       83    Anne Rice's The Vampire Lestat: A Graphic Novel            0   \n",
      "999      672   The Cat in the Hat and Other Dr. Seuss Favorites            0   \n",
      "\n",
      "     calificacion_promedio  \n",
      "0                 3.662500  \n",
      "1                 4.125000  \n",
      "2                 3.825581  \n",
      "3                 4.414634  \n",
      "4                 4.287500  \n",
      "..                     ...  \n",
      "995               4.000000  \n",
      "996               3.000000  \n",
      "997               4.000000  \n",
      "998               3.666667  \n",
      "999               5.000000  \n",
      "\n",
      "[1000 rows x 4 columns]\n"
     ]
    }
   ],
   "source": [
    "# Consulta\n",
    "\n",
    "consulta_2 = \"\"\"\n",
    "SELECT \n",
    "    books.book_id,\n",
    "    books.title,\n",
    "    COUNT(reviews.review_id) AS num_resenas,\n",
    "    AVG(ratings.rating) AS calificacion_promedio\n",
    "FROM books\n",
    "LEFT JOIN reviews ON books.book_id = reviews.book_id\n",
    "LEFT JOIN ratings ON books.book_id = ratings.book_id\n",
    "GROUP BY books.book_id, books.title\n",
    "ORDER BY num_resenas DESC;\n",
    "\n",
    "\"\"\"\n",
    "\n",
    "# Ejecutar la consulta \n",
    "\n",
    "df_resenas_calificaciones = pd.io.sql.read_sql(consulta_2, con=engine)\n",
    "print(df_resenas_calificaciones)\n"
   ]
  },
  {
   "cell_type": "markdown",
   "metadata": {},
   "source": [
    "**Notas:** El análisis de las reseñas y calificaciones de los libros muestra que algunos títulos, como Twilight y The Hobbit, son ampliamente comentados con más de 500 reseñas, mientras que otros no tienen ninguna. La calificación promedio varía, con algunos libros alcanzando valores altos de 4.5 o más, mientras que otros tienen puntuaciones más bajas. Esto sugiere que la popularidad de un libro (medida por el número de reseñas) no siempre está directamente relacionada con su calificación promedio."
   ]
  },
  {
   "cell_type": "markdown",
   "metadata": {},
   "source": [
    "#### Identifica la editorial que ha publicado el mayor número de libros con más de 50 páginas "
   ]
  },
  {
   "cell_type": "code",
   "execution_count": 10,
   "metadata": {
    "trusted": false
   },
   "outputs": [
    {
     "name": "stdout",
     "output_type": "stream",
     "text": [
      "   publisher_id publisher_name  num_libros\n",
      "0           212  Penguin Books          42\n"
     ]
    }
   ],
   "source": [
    "# Consulta \n",
    "\n",
    "consulta_3 = \"\"\"\n",
    "SELECT \n",
    "    publishers.publisher_id,\n",
    "    publishers.publisher AS publisher_name,\n",
    "    COUNT(books.book_id) AS num_libros\n",
    "FROM books\n",
    "JOIN publishers ON books.publisher_id = publishers.publisher_id\n",
    "WHERE books.num_pages > 50\n",
    "GROUP BY publishers.publisher_id, publishers.publisher\n",
    "ORDER BY num_libros DESC\n",
    "LIMIT 1;\n",
    "\"\"\"\n",
    "\n",
    "# Ejecutar la consulta \n",
    "\n",
    "df_editorial_top = pd.io.sql.read_sql(consulta_3, con=engine)\n",
    "print(df_editorial_top)\n"
   ]
  },
  {
   "cell_type": "markdown",
   "metadata": {},
   "source": [
    "**Notas:** La editorial Penguin Books es la que ha publicado la mayor cantidad de libros con más de 50 páginas, con un total de 42 libros."
   ]
  },
  {
   "cell_type": "markdown",
   "metadata": {},
   "source": [
    "#### Identifica al autor que tiene la más alta calificación promedio del libro: mira solo los libros con al menos 50 calificaciones"
   ]
  },
  {
   "cell_type": "code",
   "execution_count": 11,
   "metadata": {
    "trusted": false
   },
   "outputs": [
    {
     "name": "stdout",
     "output_type": "stream",
     "text": [
      "   author_id          author  calificacion_promedio\n",
      "0        130  Diana Gabaldon                    4.3\n"
     ]
    }
   ],
   "source": [
    "# Consulta \n",
    "\n",
    "consulta_4 = \"\"\"\n",
    "SELECT \n",
    "    authors.author_id,\n",
    "    authors.author,\n",
    "    AVG(ratings.rating) AS calificacion_promedio\n",
    "FROM books\n",
    "JOIN authors ON books.author_id = authors.author_id\n",
    "JOIN ratings ON books.book_id = ratings.book_id\n",
    "GROUP BY authors.author_id, authors.author\n",
    "HAVING COUNT(ratings.rating) >= 50\n",
    "ORDER BY calificacion_promedio DESC\n",
    "LIMIT 1;\n",
    "\"\"\"\n",
    "\n",
    "# Ejecutar la consulta \n",
    "\n",
    "df_autor_top = pd.io.sql.read_sql(consulta_4, con=engine)\n",
    "print(df_autor_top)\n",
    "    \n",
    "    "
   ]
  },
  {
   "cell_type": "markdown",
   "metadata": {},
   "source": [
    "**Notas:**\n",
    "La autora con la calificación promedio más alta, considerando solo los libros con al menos 50 calificaciones, es Diana Gabaldon, con una calificación promedio de 4.3."
   ]
  },
  {
   "cell_type": "markdown",
   "metadata": {},
   "source": [
    "#### Encuentra el número promedio de reseñas de texto entre los usuarios que calificaron más de 50 libros"
   ]
  },
  {
   "cell_type": "code",
   "execution_count": 12,
   "metadata": {
    "trusted": false
   },
   "outputs": [
    {
     "name": "stdout",
     "output_type": "stream",
     "text": [
      "   promedio_resenas\n",
      "0         24.333333\n"
     ]
    }
   ],
   "source": [
    "# Consulta\n",
    "\n",
    "consulta_5 = \"\"\"\n",
    "    WITH usuarios_con_mas_de_50_calificaciones AS (\n",
    "        SELECT username\n",
    "        FROM ratings\n",
    "        GROUP BY username\n",
    "        HAVING COUNT(rating_id) > 50\n",
    "    )\n",
    "    SELECT AVG(num_resenas) AS promedio_resenas\n",
    "    FROM (\n",
    "        SELECT COUNT(r.review_id) AS num_resenas\n",
    "        FROM reviews r\n",
    "        JOIN usuarios_con_mas_de_50_calificaciones u ON r.username = u.username\n",
    "        GROUP BY r.username\n",
    "    ) AS subquery;\n",
    "\"\"\"\n",
    "# Ejecutar la consulta\n",
    "\n",
    "promedio_resenas_df = pd.io.sql.read_sql(consulta_5, con=engine)\n",
    "print(promedio_resenas_df)\n"
   ]
  },
  {
   "cell_type": "markdown",
   "metadata": {},
   "source": [
    "**Notas:** El análisis muestra que, en promedio, los usuarios que han calificado más de 50 libros han escrito alrededor de 24 reseñas de texto. Esto sugiere que aunque estos usuarios son activos calificadores, no siempre acompañan sus calificaciones con comentarios detallados."
   ]
  },
  {
   "cell_type": "markdown",
   "metadata": {},
   "source": [
    "## Conclusión Final "
   ]
  },
  {
   "cell_type": "markdown",
   "metadata": {},
   "source": [
    "El análisis de las consultas realizadas proporciona información valiosa sobre la dinámica de calificaciones, reseñas y publicaciones en la base de datos de libros:\n",
    "\n",
    "- Número de libros publicados después del 1 de enero de 2000: Se identificó que 819 libros han sido publicados después de esta fecha, lo que indica una presencia significativa de literatura reciente en la base de datos.\n",
    "\n",
    "\n",
    "- Número de reseñas de usuarios y la calificación promedio por libro: Se encontró que algunos libros, como Twilight y The Hobbit, tienen un alto número de reseñas, pero la cantidad de reseñas no siempre está correlacionada con la calificación promedio, lo que sugiere diferencias en la percepción de calidad entre los lectores.\n",
    "\n",
    "\n",
    "- Editorial con mayor número de libros con más de 50 páginas: Penguin Books es la editorial con más publicaciones de este tipo, con 42 libros, lo que resalta su liderazgo en la industria con una amplia gama de contenido sustancial.\n",
    "\n",
    "\n",
    "- Autor con la calificación promedio más alta (considerando libros con al menos 50 calificaciones): Diana Gabaldon, con una calificación promedio de 4.3, se posiciona como la autora mejor valorada, lo que refleja la alta satisfacción de los lectores con sus obras.\n",
    "\n",
    "\n",
    "- Promedio de reseñas de texto entre los usuarios que calificaron más de 50 libros: Se determinó que estos usuarios han escrito en promedio 24 reseñas de texto, lo que sugiere que, aunque son activos calificadores, muchos prefieren expresar su opinión solo con puntuaciones en lugar de comentarios detallados."
   ]
  }
 ],
 "metadata": {
  "ExecuteTimeLog": [
   {
    "duration": 12,
    "start_time": "2025-03-05T17:49:39.227Z"
   },
   {
    "duration": 350,
    "start_time": "2025-03-05T17:51:49.325Z"
   },
   {
    "duration": 32,
    "start_time": "2025-03-05T17:52:29.238Z"
   },
   {
    "duration": 4,
    "start_time": "2025-03-05T17:52:55.764Z"
   },
   {
    "duration": 3,
    "start_time": "2025-03-05T17:56:09.083Z"
   },
   {
    "duration": 5,
    "start_time": "2025-03-05T17:56:32.584Z"
   },
   {
    "duration": 2,
    "start_time": "2025-03-05T17:56:36.624Z"
   },
   {
    "duration": 4045,
    "start_time": "2025-03-05T18:05:22.615Z"
   },
   {
    "duration": 4043,
    "start_time": "2025-03-05T18:05:42.902Z"
   },
   {
    "duration": 4047,
    "start_time": "2025-03-05T18:09:36.638Z"
   },
   {
    "duration": 373,
    "start_time": "2025-03-05T19:35:21.584Z"
   },
   {
    "duration": 5536,
    "start_time": "2025-03-05T19:35:21.960Z"
   },
   {
    "duration": 6,
    "start_time": "2025-03-05T19:45:17.399Z"
   },
   {
    "duration": 4,
    "start_time": "2025-03-05T19:46:06.361Z"
   },
   {
    "duration": 1352,
    "start_time": "2025-03-05T19:46:15.175Z"
   },
   {
    "duration": 735,
    "start_time": "2025-03-05T19:46:23.602Z"
   },
   {
    "duration": 739,
    "start_time": "2025-03-05T19:47:13.709Z"
   },
   {
    "duration": 736,
    "start_time": "2025-03-05T19:47:26.140Z"
   },
   {
    "duration": 1013,
    "start_time": "2025-03-05T20:17:31.490Z"
   },
   {
    "duration": 410,
    "start_time": "2025-03-06T16:29:09.510Z"
   },
   {
    "duration": 6167,
    "start_time": "2025-03-06T16:29:09.923Z"
   },
   {
    "duration": 818,
    "start_time": "2025-03-06T16:29:16.092Z"
   },
   {
    "duration": 1100,
    "start_time": "2025-03-06T16:29:16.913Z"
   },
   {
    "duration": 1101,
    "start_time": "2025-03-06T16:32:04.728Z"
   },
   {
    "duration": 1100,
    "start_time": "2025-03-06T16:35:28.454Z"
   },
   {
    "duration": 1457,
    "start_time": "2025-03-06T16:52:57.024Z"
   },
   {
    "duration": 823,
    "start_time": "2025-03-06T16:54:18.800Z"
   },
   {
    "duration": 823,
    "start_time": "2025-03-06T16:54:49.046Z"
   },
   {
    "duration": 823,
    "start_time": "2025-03-06T16:57:03.158Z"
   },
   {
    "duration": 818,
    "start_time": "2025-03-06T16:57:23.445Z"
   },
   {
    "duration": 404,
    "start_time": "2025-03-06T21:01:46.810Z"
   },
   {
    "duration": 5568,
    "start_time": "2025-03-06T21:01:47.216Z"
   },
   {
    "duration": 742,
    "start_time": "2025-03-06T21:01:52.786Z"
   },
   {
    "duration": 998,
    "start_time": "2025-03-06T21:01:53.529Z"
   },
   {
    "duration": 743,
    "start_time": "2025-03-06T21:01:54.529Z"
   },
   {
    "duration": 5,
    "start_time": "2025-03-06T21:01:55.273Z"
   },
   {
    "duration": 747,
    "start_time": "2025-03-06T21:04:08.071Z"
   },
   {
    "duration": 1336,
    "start_time": "2025-03-06T21:23:27.848Z"
   },
   {
    "duration": 746,
    "start_time": "2025-03-06T21:23:58.091Z"
   },
   {
    "duration": 769,
    "start_time": "2025-03-06T21:24:37.832Z"
   },
   {
    "duration": 768,
    "start_time": "2025-03-06T21:25:09.001Z"
   },
   {
    "duration": 767,
    "start_time": "2025-03-06T21:25:55.763Z"
   },
   {
    "duration": 372,
    "start_time": "2025-03-06T21:35:23.439Z"
   },
   {
    "duration": 375,
    "start_time": "2025-03-06T21:35:33.477Z"
   },
   {
    "duration": 9,
    "start_time": "2025-03-06T21:35:41.365Z"
   },
   {
    "duration": 743,
    "start_time": "2025-03-06T21:41:34.803Z"
   },
   {
    "duration": 743,
    "start_time": "2025-03-06T21:52:40.697Z"
   },
   {
    "duration": 368,
    "start_time": "2025-03-07T17:06:37.069Z"
   },
   {
    "duration": 6150,
    "start_time": "2025-03-07T17:06:37.439Z"
   },
   {
    "duration": 768,
    "start_time": "2025-03-07T17:06:43.591Z"
   },
   {
    "duration": 1033,
    "start_time": "2025-03-07T17:06:44.362Z"
   },
   {
    "duration": 769,
    "start_time": "2025-03-07T17:06:45.398Z"
   },
   {
    "duration": 772,
    "start_time": "2025-03-07T17:06:46.169Z"
   },
   {
    "duration": 771,
    "start_time": "2025-03-07T17:06:46.943Z"
   },
   {
    "duration": 6,
    "start_time": "2025-03-07T17:10:11.851Z"
   },
   {
    "duration": 5,
    "start_time": "2025-03-07T17:10:32.813Z"
   },
   {
    "duration": 4,
    "start_time": "2025-03-07T17:10:49.915Z"
   }
  ],
  "kernelspec": {
   "display_name": "Python 3 (TripleTen)",
   "language": "python",
   "name": "tripleten"
  },
  "language_info": {
   "codemirror_mode": {
    "name": "ipython",
    "version": 3
   },
   "file_extension": ".py",
   "mimetype": "text/x-python",
   "name": "python",
   "nbconvert_exporter": "python",
   "pygments_lexer": "ipython3",
   "version": "3.12.7"
  },
  "toc": {
   "base_numbering": 1,
   "nav_menu": {},
   "number_sections": true,
   "sideBar": true,
   "skip_h1_title": true,
   "title_cell": "Table of Contents",
   "title_sidebar": "Contents",
   "toc_cell": false,
   "toc_position": {},
   "toc_section_display": true,
   "toc_window_display": false
  }
 },
 "nbformat": 4,
 "nbformat_minor": 2
}
